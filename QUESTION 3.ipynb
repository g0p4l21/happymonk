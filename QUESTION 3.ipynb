{
 "cells": [
  {
   "cell_type": "markdown",
   "id": "d0b18edf",
   "metadata": {},
   "source": [
    "### 3.Download an image dataset of your choice for binary class classification. "
   ]
  },
  {
   "cell_type": "code",
   "execution_count": null,
   "id": "8a265e24",
   "metadata": {},
   "outputs": [],
   "source": [
    "from glob import glob\n",
    "from bs4 import BeautifulSoup\n",
    "import os"
   ]
  },
  {
   "cell_type": "code",
   "execution_count": null,
   "id": "0812c57b",
   "metadata": {},
   "outputs": [],
   "source": [
    "# Create a label list of label xmal files. \n",
    "labels_dir = list(sorted(glob(\"/kaggle/input/dog-and-cat-detection/annotations/*.xml\")))\n",
    "#labels_dir"
   ]
  },
  {
   "cell_type": "code",
   "execution_count": null,
   "id": "59cbe612",
   "metadata": {},
   "outputs": [],
   "source": [
    "# Create dataset->export->labels foler and a list of txt lables.\n",
    "text_labels_dir = '/dataset/export/labels'\n",
    "os.makedirs(text_labels_dir, exist_ok = True)"
   ]
  },
  {
   "cell_type": "code",
   "execution_count": null,
   "id": "ef0e4d74",
   "metadata": {},
   "outputs": [],
   "source": [
    "for labels in labels_dir : \n",
    "    with open(labels, 'r') as f :\n",
    "        data = f.read()\n",
    "        soup = BeautifulSoup(data, 'xml')\n",
    "\n",
    "        img_size = soup.find('size')\n",
    "        img_width = int(img_size.find('width').text)\n",
    "        img_height = int(img_size.find('height').text)\n",
    "\n",
    "        objects = soup.find_all('object')\n",
    "        obj_list = []\n",
    "        class_lambda = lambda x : 0 if x == 'cat' else 1\n",
    "        for obj in objects :\n",
    "            label = class_lambda(obj.find('name').text\n",
    "            \n",
    "                                 \n",
    "            label = class_lambda(obj.find('name').text)\n",
    "            xmin = int(obj.find('xmin').text)\n",
    "            ymin = int(obj.find('ymin').text)\n",
    "            xmax = int(obj.find('xmax').text)\n",
    "            ymax = int(obj.find('ymax').text)\n",
    "\n",
    "            x = ((xmin + xmax) / 2) / img_width\n",
    "            y = ((ymin + ymax) / 2) / img_height\n",
    "            width = (xmax - xmin) / img_width\n",
    "            height = (ymax - ymin) / img_height\n",
    "\n",
    "            obj_list.append([label, x, y, width, height])\n",
    "        \n",
    "        txt_label_dir = text_labels_dir + '/' + labels[47:-4] + '.txt'\n",
    "        with open(txt_label_dir, 'w') as f :\n",
    "            for obj in obj_list :\n",
    "                f.write(str(obj[0]) + ' ' +\\\n",
    "                        str(obj[1]) + ' ' +\\\n",
    "                        str(obj[2]) + ' ' +\\\n",
    "                        str(obj[3]) + ' ' +\\\n",
    "                        str(obj[4]))"
   ]
  },
  {
   "cell_type": "code",
   "execution_count": null,
   "id": "ca5c3463",
   "metadata": {},
   "outputs": [],
   "source": [
    "# Import required library to process the images.\n",
    "from distutils.dir_util import copy_tree"
   ]
  },
  {
   "cell_type": "code",
   "execution_count": null,
   "id": "96b6dd8c",
   "metadata": {},
   "outputs": [],
   "source": [
    "# Create a images directory under the export directory.\n",
    "imgs_dir = '/dataset/export/images'\n",
    "os.makedirs(imgs_dir, exist_ok = True)"
   ]
  },
  {
   "cell_type": "code",
   "execution_count": null,
   "id": "c926ddcb",
   "metadata": {},
   "outputs": [],
   "source": [
    "# Copy the iamges to the new directory.\n",
    "copy_tree(\"/kaggle/input/dog-and-cat-detection/images\",\\\n",
    "          imgs_dir)"
   ]
  },
  {
   "cell_type": "markdown",
   "id": "8338ca8b",
   "metadata": {},
   "source": [
    "#### Perform data augmentation techniques like flipping, rotation, and transformation on the dataset:"
   ]
  },
  {
   "cell_type": "code",
   "execution_count": 21,
   "id": "75e9f2c2",
   "metadata": {},
   "outputs": [
    {
     "ename": "ModuleNotFoundError",
     "evalue": "No module named 'keras'",
     "output_type": "error",
     "traceback": [
      "\u001b[1;31m---------------------------------------------------------------------------\u001b[0m",
      "\u001b[1;31mModuleNotFoundError\u001b[0m                       Traceback (most recent call last)",
      "\u001b[1;32m<ipython-input-21-88d96843a926>\u001b[0m in \u001b[0;36m<module>\u001b[1;34m\u001b[0m\n\u001b[1;32m----> 1\u001b[1;33m \u001b[1;32mimport\u001b[0m \u001b[0mkeras\u001b[0m\u001b[1;33m\u001b[0m\u001b[1;33m\u001b[0m\u001b[0m\n\u001b[0m",
      "\u001b[1;31mModuleNotFoundError\u001b[0m: No module named 'keras'"
     ]
    }
   ],
   "source": [
    "import keras"
   ]
  },
  {
   "cell_type": "code",
   "execution_count": 18,
   "id": "9e688e7b",
   "metadata": {},
   "outputs": [
    {
     "ename": "ModuleNotFoundError",
     "evalue": "No module named 'keras'",
     "output_type": "error",
     "traceback": [
      "\u001b[1;31m---------------------------------------------------------------------------\u001b[0m",
      "\u001b[1;31mModuleNotFoundError\u001b[0m                       Traceback (most recent call last)",
      "\u001b[1;32m<ipython-input-18-d83e72c4c901>\u001b[0m in \u001b[0;36m<module>\u001b[1;34m\u001b[0m\n\u001b[1;32m----> 1\u001b[1;33m \u001b[1;32mfrom\u001b[0m \u001b[0mkeras\u001b[0m\u001b[1;33m.\u001b[0m\u001b[0mpreprocessing\u001b[0m\u001b[1;33m.\u001b[0m\u001b[0mimage\u001b[0m \u001b[1;32mimport\u001b[0m \u001b[0mImageDataGenerator\u001b[0m\u001b[1;33m\u001b[0m\u001b[1;33m\u001b[0m\u001b[0m\n\u001b[0m\u001b[0;32m      2\u001b[0m \u001b[1;33m\u001b[0m\u001b[0m\n\u001b[0;32m      3\u001b[0m \u001b[1;31m# create a data generator\u001b[0m\u001b[1;33m\u001b[0m\u001b[1;33m\u001b[0m\u001b[1;33m\u001b[0m\u001b[0m\n\u001b[0;32m      4\u001b[0m datagen = ImageDataGenerator(\n\u001b[0;32m      5\u001b[0m     \u001b[0mrotation_range\u001b[0m\u001b[1;33m=\u001b[0m\u001b[1;36m40\u001b[0m\u001b[1;33m,\u001b[0m\u001b[1;33m\u001b[0m\u001b[1;33m\u001b[0m\u001b[0m\n",
      "\u001b[1;31mModuleNotFoundError\u001b[0m: No module named 'keras'"
     ]
    }
   ],
   "source": [
    "from keras.preprocessing.image import ImageDataGenerator\n",
    "\n",
    "# create a data generator\n",
    "datagen = ImageDataGenerator(\n",
    "    rotation_range=40,\n",
    "    width_shift_range=0.2,\n",
    "    height_shift_range=0.2,\n",
    "    shear_range=0.2,\n",
    "    zoom_range=0.2,\n",
    "    horizontal_flip=True,\n",
    "    fill_mode='nearest')\n"
   ]
  },
  {
   "cell_type": "markdown",
   "id": "a116e7fb",
   "metadata": {},
   "source": [
    "#### Apply object classification techniques using a convolutional neural network (CNN) and a support vector machine (SVM) on the original dataset."
   ]
  },
  {
   "cell_type": "code",
   "execution_count": null,
   "id": "6526e26b",
   "metadata": {},
   "outputs": [],
   "source": [
    "from keras.models import Sequential\n",
    "from keras.layers import Dense, Conv2D, MaxPooling2D, Flatten\n",
    "from sklearn.svm import SVC\n",
    "\n",
    "# create a CNN\n",
    "model = Sequential()\n",
    "model.add(Conv2D(32, kernel_size=(3, 3), activation='relu', input_shape=(150, 150, 3)))\n",
    "model.add(MaxPooling2D(pool_size=(2, 2)))\n",
    "model.add(Flatten())\n",
    "model.add(Dense(1, activation='sigmoid'))\n",
    "\n",
    "model.compile(loss='binary_crossentropy', optimizer='adam', metrics=['accuracy'])\n",
    "\n",
    "# train the CNN\n",
    "model.fit(X_train, y_train, epochs=10, batch_size=32)\n",
    "\n",
    "# evaluate the CNN\n",
    "scores = model.evaluate(X_test, y_test)\n",
    "print(\"Accuracy: %.2f%%\" % (scores[1]*100))\n",
    "\n",
    "# create a SVM\n",
    "clf = SVC(kernel='linear', C=1)\n",
    "\n",
    "# train the SVM\n",
    "clf.fit(X_train, y_train)\n",
    "\n",
    "# evaluate the SVM\n",
    "scores = clf.score(X_test, y_test)\n",
    "print(\"Accuracy: %.2f%%\" % (scores*100))\n"
   ]
  },
  {
   "cell_type": "markdown",
   "id": "280777e6",
   "metadata": {},
   "source": [
    "#### Perform the same steps for the augmented dataset."
   ]
  },
  {
   "cell_type": "code",
   "execution_count": null,
   "id": "70a6a416",
   "metadata": {},
   "outputs": [],
   "source": []
  }
 ],
 "metadata": {
  "kernelspec": {
   "display_name": "Python 3",
   "language": "python",
   "name": "python3"
  },
  "language_info": {
   "codemirror_mode": {
    "name": "ipython",
    "version": 3
   },
   "file_extension": ".py",
   "mimetype": "text/x-python",
   "name": "python",
   "nbconvert_exporter": "python",
   "pygments_lexer": "ipython3",
   "version": "3.8.8"
  }
 },
 "nbformat": 4,
 "nbformat_minor": 5
}
