{
 "cells": [
  {
   "cell_type": "markdown",
   "id": "15403f68",
   "metadata": {},
   "source": [
    "## 1.IDENTIFY BOTH DATASETS HAVE SAME VARIABLE"
   ]
  },
  {
   "cell_type": "code",
   "execution_count": 1,
   "id": "4365b452",
   "metadata": {},
   "outputs": [],
   "source": [
    "import pandas as pd"
   ]
  },
  {
   "cell_type": "code",
   "execution_count": 2,
   "id": "1255a17b",
   "metadata": {},
   "outputs": [],
   "source": [
    "df1=pd.read_csv(\"C:\\\\Users\\\\HP\\\\Downloads\\\\annual-enterprise-survey-2021-financial-year-provisional-csv.csv\")"
   ]
  },
  {
   "cell_type": "code",
   "execution_count": 3,
   "id": "7ffbe88b",
   "metadata": {},
   "outputs": [],
   "source": [
    "df2=pd.read_csv(\"C:\\\\Users\\\\HP\\\\Downloads\\\\cars.csv\")"
   ]
  },
  {
   "cell_type": "code",
   "execution_count": 4,
   "id": "3b1c5680",
   "metadata": {},
   "outputs": [
    {
     "name": "stdout",
     "output_type": "stream",
     "text": [
      "Datasets A and B have different variables.\n"
     ]
    }
   ],
   "source": [
    "# compare columns of dataset A and B\n",
    "if set(df1.columns) == set(df2.columns):\n",
    "    print(\"Datasets A and B have the same variables.\")\n",
    "else:\n",
    "    print(\"Datasets A and B have different variables.\")"
   ]
  },
  {
   "cell_type": "code",
   "execution_count": null,
   "id": "57a54a3c",
   "metadata": {},
   "outputs": [],
   "source": []
  }
 ],
 "metadata": {
  "kernelspec": {
   "display_name": "Python 3",
   "language": "python",
   "name": "python3"
  },
  "language_info": {
   "codemirror_mode": {
    "name": "ipython",
    "version": 3
   },
   "file_extension": ".py",
   "mimetype": "text/x-python",
   "name": "python",
   "nbconvert_exporter": "python",
   "pygments_lexer": "ipython3",
   "version": "3.8.8"
  }
 },
 "nbformat": 4,
 "nbformat_minor": 5
}
